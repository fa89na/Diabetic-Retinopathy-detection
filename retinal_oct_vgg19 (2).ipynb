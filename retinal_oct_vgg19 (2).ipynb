{
  "nbformat": 4,
  "nbformat_minor": 0,
  "metadata": {
    "kernelspec": {
      "language": "python",
      "display_name": "Python 3",
      "name": "python3"
    },
    "language_info": {
      "pygments_lexer": "ipython3",
      "nbconvert_exporter": "python",
      "version": "3.6.4",
      "file_extension": ".py",
      "codemirror_mode": {
        "name": "ipython",
        "version": 3
      },
      "name": "python",
      "mimetype": "text/x-python"
    },
    "colab": {
      "name": "retinal oct vgg19.ipynb",
      "provenance": [],
      "collapsed_sections": []
    }
  },
  "cells": [
    {
      "cell_type": "code",
      "metadata": {
        "execution": {
          "iopub.status.busy": "2021-07-21T16:32:12.058862Z",
          "iopub.execute_input": "2021-07-21T16:32:12.059177Z",
          "iopub.status.idle": "2021-07-21T16:32:17.753767Z",
          "shell.execute_reply.started": "2021-07-21T16:32:12.059103Z",
          "shell.execute_reply": "2021-07-21T16:32:17.752975Z"
        },
        "trusted": true,
        "id": "sVVlFW-Ctyoz"
      },
      "source": [
        "import os\n",
        "import random\n",
        "import numpy as np\n",
        "import matplotlib.pyplot as plt\n",
        "import seaborn as sns\n",
        "import sklearn.metrics\n",
        "import tensorflow as tf\n",
        "import tensorflow_addons as tfa\n",
        "from tensorflow.keras.preprocessing.image import ImageDataGenerator, load_img"
      ],
      "execution_count": null,
      "outputs": []
    },
    {
      "cell_type": "markdown",
      "metadata": {
        "id": "V6OIB9RLtyo6"
      },
      "source": [
        "# Importing dataset "
      ]
    },
    {
      "cell_type": "code",
      "metadata": {
        "execution": {
          "iopub.status.busy": "2021-07-21T16:32:31.615835Z",
          "iopub.execute_input": "2021-07-21T16:32:31.616194Z",
          "iopub.status.idle": "2021-07-21T16:32:31.641835Z",
          "shell.execute_reply.started": "2021-07-21T16:32:31.616161Z",
          "shell.execute_reply": "2021-07-21T16:32:31.641121Z"
        },
        "trusted": true,
        "id": "sLOWPbm6tyo8"
      },
      "source": [
        "base_dir = os.path.join(\"data/dirdata /\")\n",
        "print('Base directory --> ', os.listdir(base_dir))"
      ],
      "execution_count": null,
      "outputs": []
    },
    {
      "cell_type": "code",
      "metadata": {
        "execution": {
          "iopub.status.busy": "2021-07-21T16:32:32.98261Z",
          "iopub.execute_input": "2021-07-21T16:32:32.982983Z",
          "iopub.status.idle": "2021-07-21T16:32:33.015031Z",
          "shell.execute_reply.started": "2021-07-21T16:32:32.982938Z",
          "shell.execute_reply": "2021-07-21T16:32:33.014188Z"
        },
        "trusted": true,
        "id": "24WNi0zKtyo_"
      },
      "source": [
        "train_dir = os.path.join(base_dir + \"train/\")\n",
        "print(\"Train Directory --> \", os.listdir(train_dir))\n",
        "\n",
        "validation_dir = os.path.join(base_dir + \"val/\")\n",
        "print(\"Validation Directory --> \", os.listdir(validation_dir))\n",
        "\n",
        "test_dir = os.path.join(base_dir + \"test/\")\n",
        "print(\"Test Directory --> \", os.listdir(test_dir))"
      ],
      "execution_count": null,
      "outputs": []
    },
    {
      "cell_type": "markdown",
      "metadata": {
        "id": "hUz6CX_rtypD"
      },
      "source": [
        "# Defining the models"
      ]
    },
    {
      "cell_type": "code",
      "metadata": {
        "execution": {
          "iopub.status.busy": "2021-07-21T16:32:38.195382Z",
          "iopub.execute_input": "2021-07-21T16:32:38.195747Z",
          "iopub.status.idle": "2021-07-21T16:32:41.997383Z",
          "shell.execute_reply.started": "2021-07-21T16:32:38.195716Z",
          "shell.execute_reply": "2021-07-21T16:32:41.996575Z"
        },
        "trusted": true,
        "id": "loqurCGotypE"
      },
      "source": [
        "vgg19 = tf.keras.applications.VGG19(\n",
        "    include_top = False, \n",
        "    weights = 'imagenet', \n",
        "    input_tensor = None,\n",
        "    input_shape = (150,150,3), \n",
        "    pooling = None, \n",
        "    classes = 1000\n",
        ")"
      ],
      "execution_count": null,
      "outputs": []
    },
    {
      "cell_type": "code",
      "metadata": {
        "execution": {
          "iopub.status.busy": "2021-07-21T16:32:44.785202Z",
          "iopub.execute_input": "2021-07-21T16:32:44.785572Z",
          "iopub.status.idle": "2021-07-21T16:32:44.790264Z",
          "shell.execute_reply.started": "2021-07-21T16:32:44.785538Z",
          "shell.execute_reply": "2021-07-21T16:32:44.789233Z"
        },
        "trusted": true,
        "id": "2jhOQsZWtypJ"
      },
      "source": [
        "vgg19.trainable = False"
      ],
      "execution_count": null,
      "outputs": []
    },
    {
      "cell_type": "code",
      "metadata": {
        "execution": {
          "iopub.status.busy": "2021-07-21T16:32:48.214275Z",
          "iopub.execute_input": "2021-07-21T16:32:48.214664Z",
          "iopub.status.idle": "2021-07-21T16:32:48.325852Z",
          "shell.execute_reply.started": "2021-07-21T16:32:48.214633Z",
          "shell.execute_reply": "2021-07-21T16:32:48.325086Z"
        },
        "trusted": true,
        "id": "rTQIC_3UtypK"
      },
      "source": [
        "model_vgg = tf.keras.models.Sequential([\n",
        "    \n",
        "    vgg19,\n",
        "    tf.keras.layers.Conv2D(128, kernel_size = (3, 3), padding = 'same'),\n",
        "    tf.keras.layers.PReLU(alpha_initializer='zeros'),\n",
        "    tf.keras.layers.Conv2D(64, kernel_size = (3, 3), padding = 'same'),\n",
        "    tf.keras.layers.PReLU(alpha_initializer='zeros'),\n",
        "    tf.keras.layers.Flatten(),\n",
        "    tf.keras.layers.Dense(100),\n",
        "    tf.keras.layers.PReLU(alpha_initializer='zeros'),\n",
        "    tf.keras.layers.Dense(4, activation = 'softmax')\n",
        "])"
      ],
      "execution_count": null,
      "outputs": []
    },
    {
      "cell_type": "code",
      "metadata": {
        "execution": {
          "iopub.status.busy": "2021-07-21T16:32:51.773059Z",
          "iopub.execute_input": "2021-07-21T16:32:51.773369Z",
          "iopub.status.idle": "2021-07-21T16:32:51.805814Z",
          "shell.execute_reply.started": "2021-07-21T16:32:51.77334Z",
          "shell.execute_reply": "2021-07-21T16:32:51.805165Z"
        },
        "trusted": true,
        "id": "nX1bOLxOtypN"
      },
      "source": [
        "metrics = ['accuracy',\n",
        "                tf.keras.metrics.AUC(),\n",
        "                tfa.metrics.CohenKappa(num_classes = 4),\n",
        "                tfa.metrics.F1Score(num_classes = 4),\n",
        "                tf.keras.metrics.Precision(), \n",
        "                tf.keras.metrics.Recall()]"
      ],
      "execution_count": null,
      "outputs": []
    },
    {
      "cell_type": "code",
      "metadata": {
        "execution": {
          "iopub.status.busy": "2021-07-21T16:32:53.331782Z",
          "iopub.execute_input": "2021-07-21T16:32:53.332098Z",
          "iopub.status.idle": "2021-07-21T16:32:53.357045Z",
          "shell.execute_reply.started": "2021-07-21T16:32:53.33207Z",
          "shell.execute_reply": "2021-07-21T16:32:53.35631Z"
        },
        "trusted": true,
        "id": "eP3BBzYBtypP"
      },
      "source": [
        "model_vgg.compile(loss = 'categorical_crossentropy', optimizer = 'adam', metrics = metrics)\n",
        "model_vgg.summary()"
      ],
      "execution_count": null,
      "outputs": []
    },
    {
      "cell_type": "code",
      "metadata": {
        "execution": {
          "iopub.status.busy": "2021-07-21T16:32:57.621106Z",
          "iopub.execute_input": "2021-07-21T16:32:57.621464Z",
          "iopub.status.idle": "2021-07-21T16:34:48.288748Z",
          "shell.execute_reply.started": "2021-07-21T16:32:57.621432Z",
          "shell.execute_reply": "2021-07-21T16:34:48.287989Z"
        },
        "trusted": true,
        "id": "kLUBFixItypU"
      },
      "source": [
        "train_datagen = ImageDataGenerator(rescale = 1./255)\n",
        "train_generator = train_datagen.flow_from_directory(train_dir, target_size = (150, 150), class_mode = 'categorical', batch_size = 500)"
      ],
      "execution_count": null,
      "outputs": []
    },
    {
      "cell_type": "code",
      "metadata": {
        "execution": {
          "iopub.status.busy": "2021-07-21T16:34:51.219047Z",
          "iopub.execute_input": "2021-07-21T16:34:51.219424Z",
          "iopub.status.idle": "2021-07-21T16:34:51.330515Z",
          "shell.execute_reply.started": "2021-07-21T16:34:51.21939Z",
          "shell.execute_reply": "2021-07-21T16:34:51.329013Z"
        },
        "trusted": true,
        "id": "GZVM1AdHtypV"
      },
      "source": [
        "validation_datagen = ImageDataGenerator(rescale = 1./255)\n",
        "validation_generator = validation_datagen.flow_from_directory(validation_dir, target_size = (150, 150), class_mode = 'categorical', batch_size = 16)"
      ],
      "execution_count": null,
      "outputs": []
    },
    {
      "cell_type": "code",
      "metadata": {
        "execution": {
          "iopub.status.busy": "2021-07-21T16:34:57.410697Z",
          "iopub.execute_input": "2021-07-21T16:34:57.411031Z",
          "iopub.status.idle": "2021-07-21T16:34:57.728058Z",
          "shell.execute_reply.started": "2021-07-21T16:34:57.411Z",
          "shell.execute_reply": "2021-07-21T16:34:57.727067Z"
        },
        "trusted": true,
        "id": "h8xJNTqptypX"
      },
      "source": [
        "test_datagen = ImageDataGenerator(rescale = 1./255)\n",
        "test_generator = test_datagen.flow_from_directory(test_dir, target_size = (150, 150), class_mode = 'categorical', batch_size = 50)"
      ],
      "execution_count": null,
      "outputs": []
    },
    {
      "cell_type": "code",
      "metadata": {
        "execution": {
          "iopub.status.busy": "2021-07-21T16:35:04.081561Z",
          "iopub.execute_input": "2021-07-21T16:35:04.081875Z",
          "iopub.status.idle": "2021-07-21T17:46:36.168215Z",
          "shell.execute_reply.started": "2021-07-21T16:35:04.081845Z",
          "shell.execute_reply": "2021-07-21T17:46:36.166947Z"
        },
        "trusted": true,
        "id": "rDcydBdOtypY"
      },
      "source": [
        "history_vgg = model_vgg.fit(\n",
        "    train_generator,\n",
        "    steps_per_epoch = (83484/500),\n",
        "    epochs = 10,\n",
        "    validation_data = validation_generator,\n",
        "    validation_steps = (32/16),\n",
        "    max_queue_size=100,\n",
        "    workers = 4 ,\n",
        "    use_multiprocessing=True,\n",
        "    verbose = 1)"
      ],
      "execution_count": null,
      "outputs": []
    },
    {
      "cell_type": "code",
      "metadata": {
        "execution": {
          "iopub.status.busy": "2021-07-21T17:49:37.055015Z",
          "iopub.execute_input": "2021-07-21T17:49:37.055819Z",
          "iopub.status.idle": "2021-07-21T17:49:37.659072Z",
          "shell.execute_reply.started": "2021-07-21T17:49:37.055769Z",
          "shell.execute_reply": "2021-07-21T17:49:37.658249Z"
        },
        "trusted": true,
        "id": "ajdP-qHZtypa"
      },
      "source": [
        "print(\"Values for VGG-19 based ConvNet\")\n",
        "acc = history_vgg.history['accuracy']\n",
        "val_acc = history_vgg.history['val_accuracy']\n",
        "loss = history_vgg.history['loss']\n",
        "val_loss = history_vgg.history['val_loss']\n",
        "\n",
        "epochs = range(len(acc))\n",
        "\n",
        "plt.figure(figsize=(12,12))\n",
        "\n",
        "plt.plot(epochs, acc, 'r', label = 'Training accuracy')\n",
        "plt.plot(epochs, val_acc, 'b', label = 'Validation accuracy')\n",
        "plt.title('Training & validation accuracy')\n",
        "plt.legend()\n",
        "\n",
        "plt.figure(figsize = (12,12))\n",
        "\n",
        "plt.plot(epochs, loss, 'r', label = 'Training Loss')\n",
        "plt.plot(epochs, val_loss, 'b', label = 'Validation Loss')\n",
        "plt.title('Training $ validation loss')\n",
        "plt.legend()\n",
        "\n",
        "plt.show()"
      ],
      "execution_count": null,
      "outputs": []
    },
    {
      "cell_type": "code",
      "metadata": {
        "execution": {
          "iopub.status.busy": "2021-07-21T17:49:56.345218Z",
          "iopub.execute_input": "2021-07-21T17:49:56.34559Z",
          "iopub.status.idle": "2021-07-21T17:50:05.983969Z",
          "shell.execute_reply.started": "2021-07-21T17:49:56.345553Z",
          "shell.execute_reply": "2021-07-21T17:50:05.983092Z"
        },
        "trusted": true,
        "id": "eVfhhCIQtypb"
      },
      "source": [
        "model_vgg.evaluate(test_generator)"
      ],
      "execution_count": null,
      "outputs": []
    },
    {
      "cell_type": "code",
      "metadata": {
        "trusted": true,
        "id": "pEEUbWBhtypc"
      },
      "source": [
        "test_steps_per_epoch = np.math.ceil(test_generator.samples / test_generator.batch_size)\n",
        "\n",
        "predictions = model_vgg.predict_generator(test_generator, steps = test_steps_per_epoch)\n",
        "\n",
        "predicted_classes = np.argmax(predictions, axis=1)"
      ],
      "execution_count": null,
      "outputs": []
    },
    {
      "cell_type": "code",
      "metadata": {
        "trusted": true,
        "id": "4ul1kG6ntypd"
      },
      "source": [
        "true_classes = test_generator.classes\n",
        "class_labels = list(test_generator.class_indices.keys())  "
      ],
      "execution_count": null,
      "outputs": []
    },
    {
      "cell_type": "code",
      "metadata": {
        "trusted": true,
        "id": "tw7Hlhqvtype"
      },
      "source": [
        "report = sklearn.metrics.classification_report(true_classes, predicted_classes, target_names = class_labels)\n",
        "print(report) "
      ],
      "execution_count": null,
      "outputs": []
    },
    {
      "cell_type": "code",
      "metadata": {
        "trusted": true,
        "id": "DnZ8lzIItypg"
      },
      "source": [
        "cm = sklearn.metrics.confusion_matrix(true_classes, predicted_classes)\n",
        "plt.figure(figsize=(8,8))\n",
        "sns.heatmap(cm, fmt='.0f', annot=True, linewidths=0.2, linecolor='purple')\n",
        "plt.xlabel('predicted value')\n",
        "plt.ylabel('Truth value')\n",
        "plt.show()"
      ],
      "execution_count": null,
      "outputs": []
    },
    {
      "cell_type": "code",
      "metadata": {
        "id": "EEF8sY6muNeE"
      },
      "source": [
        ""
      ],
      "execution_count": null,
      "outputs": []
    }
  ]
}